{
 "cells": [
  {
   "cell_type": "code",
   "execution_count": 122,
   "metadata": {},
   "outputs": [],
   "source": [
    "import numpy as np"
   ]
  },
  {
   "cell_type": "code",
   "execution_count": 1,
   "metadata": {},
   "outputs": [
    {
     "name": "stdout",
     "output_type": "stream",
     "text": [
      "-------\n"
     ]
    }
   ],
   "source": [
    "\"\"\"\n",
    "\n",
    "01 Exercice\n",
    "\n",
    "Soit la chaîne de caractères suivante : \"mississippi\". Comptez le nombre d'occurence de chaque lettre(s).\n",
    "\n",
    "\n",
    "\"\"\"\n",
    "\n",
    "print(\"-------\")"
   ]
  },
  {
   "cell_type": "code",
   "execution_count": 2,
   "metadata": {},
   "outputs": [
    {
     "name": "stdout",
     "output_type": "stream",
     "text": [
      "4\n",
      "{'p': 2, 's': 4, 'm': 1, 'i': 4}\n"
     ]
    }
   ],
   "source": [
    "phrase = \"mississippi\"\n",
    "print( phrase.count('i') )\n",
    "\n",
    "# Un ensemble vous permet de récupérer uniquement un représentant de chaque lettre dans la phrase\n",
    "letters = set(phrase)\n",
    "\n",
    "stat = { letter : phrase.count(letter) for letter in letters }\n",
    "\n",
    "print(stat)"
   ]
  },
  {
   "cell_type": "code",
   "execution_count": 3,
   "metadata": {},
   "outputs": [
    {
     "name": "stdout",
     "output_type": "stream",
     "text": [
      "-------\n"
     ]
    }
   ],
   "source": [
    "\"\"\"\n",
    "02 Exercice \n",
    "\n",
    "Nous souhaitons créer une fonction qui permet d'inverser des entiers signés ou non :\n",
    "\n",
    "Par exemples :\n",
    "\n",
    "-6523 donnerait -3256\n",
    "\n",
    "123 donnerait 321\n",
    "\n",
    "Utilisez les notions du cours pour créer cette fonction. Notamment pensez à caster vos données \n",
    "afin de pouvoir les utiliser avec d'autre(s) fonction(s).\n",
    "\n",
    "\"\"\"\n",
    "\n",
    "print(\"-------\")"
   ]
  },
  {
   "cell_type": "code",
   "execution_count": 35,
   "metadata": {},
   "outputs": [
    {
     "name": "stdout",
     "output_type": "stream",
     "text": [
      "-871\n",
      "version 2\n",
      "-871\n"
     ]
    }
   ],
   "source": [
    "def inverseInt1(num):\n",
    "    sens = 1\n",
    "    if num < 0:\n",
    "        sens = -1\n",
    "    \n",
    "    phrase = str(abs(num))\n",
    "    lenPhrase = len(phrase) \n",
    "    normalize = [ phrase[lenPhrase - ( 1 + i ) ] for i in range( lenPhrase ) ]\n",
    "\n",
    "    return  sens * int(\"\".join(normalize) )\n",
    "\n",
    "print( inverseInt1(-178) )\n",
    "\n",
    "# Méthode plus parfaite \n",
    "def inverseInt2(num):\n",
    "    sens = 1\n",
    "    if num < 0:\n",
    "        sens = -1\n",
    "    \n",
    "    # pour inverser que les chiffres et pas le signe\n",
    "    phrase = str(abs(num))\n",
    "    \n",
    "    return  sens * int( phrase[::-1] ) \n",
    "\n",
    "print(\"version 2\")\n",
    "print( inverseInt2(-178) )"
   ]
  },
  {
   "cell_type": "code",
   "execution_count": 41,
   "metadata": {},
   "outputs": [
    {
     "name": "stdout",
     "output_type": "stream",
     "text": [
      "trouvé 5\n",
      "trouvé 9\n",
      "trouvé 15\n",
      "trouvé 20\n",
      "[5, 9, 15, 20]\n"
     ]
    }
   ],
   "source": [
    "\"\"\"\n",
    "02 Exercice\n",
    "\n",
    "Un problème récurrent en analyse de données consiste à rechercher une séquence de valeur dans un tableau.\n",
    "\n",
    "Ci-dessous on cherche la séquence 1 2 3\n",
    "\n",
    "l = [1,3,7,8,9,1,2,3,8, 1, 2, 3, 7, 8, 9, 1, 2, 3, 8, 10, 1, 2, 3]\n",
    "Créez une fonction qui permette de rechercher un mot dans un texte ou une liste, \n",
    "notez que cette fonction sera identique pour un texte, un itérable... \n",
    "Il serait intéressant que cette fonction retourne le premier indice de la position de la séquence trouvée dans la liste.\n",
    "\n",
    "Retournez maintenant tous les indices de toutes les séquences trouvées dans la liste.\n",
    "\n",
    "\n",
    "Indication: parcourir le tableau en détectant les séquences. Et regarde pour chaque valeur de la liste est retrouver dans la liste\n",
    "Il faut donc reparcourir la liste\n",
    "\n",
    "seq = [1, 2, 3]\n",
    "\n",
    "for c in l:\n",
    "    # reparcourir la séquence en fonction de la grande liste\n",
    "    if c == seq[0]:\n",
    "        \n",
    "\"\"\"\n",
    "\n",
    "l = [1,3,7,8,9,1,2,3,8, 1, 2, 3, 7, 8, 9, 1, 2, 3, 8, 10, 1, 2, 3]\n",
    "\n",
    "seq = [1, 2, 3]\n",
    "seqLen = len(seq)\n",
    "count = 0\n",
    "i = 0\n",
    "\n",
    "res = []\n",
    "for j, num in enumerate(l):\n",
    "    \n",
    "    if i < seqLen and num == seq[i] :\n",
    "        count += 1 # j'ai trouvé une occurence dans la liste\n",
    "        i+= 1  # je regard au pas suivant si j'ai encore élément qui match\n",
    "    else:\n",
    "        # sinon si au pas suivant je l'ai pas trouvé je ré-initialise tout \n",
    "        count = 0\n",
    "        i = 0\n",
    "   \n",
    "    if count == seqLen:\n",
    "        print(\"trouvé\", j - i + 1 )\n",
    "        res.append(j - i + 1)\n",
    "        count = 0\n",
    "        i = 0\n",
    "\n",
    "print(res)\n",
    "    \n"
   ]
  },
  {
   "cell_type": "code",
   "execution_count": 49,
   "metadata": {},
   "outputs": [],
   "source": [
    "def serachPosSeq(phrase, seq):\n",
    "    count, i, res = 0, 0, []\n",
    "    lenSeq = len(seq)\n",
    "    for j, num in enumerate(phrase):\n",
    "        if i < lenSeq and num == seq[i] :\n",
    "            count += 1 \n",
    "            i+= 1 \n",
    "        else:\n",
    "            i, count = 0, 0\n",
    "   \n",
    "        if count == lenSeq:\n",
    "            res.append(j - i + 1)\n",
    "            i, count = 0, 0\n",
    "        \n",
    "    return res\n",
    "    "
   ]
  },
  {
   "cell_type": "code",
   "execution_count": 50,
   "metadata": {},
   "outputs": [
    {
     "data": {
      "text/plain": [
       "[5, 9, 15, 20]"
      ]
     },
     "execution_count": 50,
     "metadata": {},
     "output_type": "execute_result"
    }
   ],
   "source": [
    "l = [1,3,7,8,9,1,2,3,8, 1, 2, 3, 7, 8, 9, 1, 2, 3, 8, 10, 1, 2, 3]\n",
    "\n",
    "seq = [1, 2, 3]\n",
    "\n",
    "serachPosSeq(l, seq)"
   ]
  },
  {
   "cell_type": "code",
   "execution_count": 51,
   "metadata": {},
   "outputs": [
    {
     "name": "stdout",
     "output_type": "stream",
     "text": [
      "Hello World   \n"
     ]
    }
   ],
   "source": [
    "\"\"\"\n",
    "04 Exercice \n",
    "\n",
    "\"\"\"\n",
    "\n",
    "import re\n",
    "s = \"Hello World, . ; ?\"\n",
    "# le troisième paramètre permet d'ignorer la case\n",
    "# dans des crochets cela signifie tout ce qui n'est pas un mot ou un espace sera remplacé par  \n",
    "# une chaîne de caractère vide\n",
    "s = re.sub(r\"[^\\w\\se]\", \"\", s, flags=re.IGNORECASE)\n",
    "\n",
    "print(s)"
   ]
  },
  {
   "cell_type": "code",
   "execution_count": 52,
   "metadata": {},
   "outputs": [],
   "source": [
    "phrase = \"Le langage Python est placé sous une licence libre proche de la licence BSD6 et fonctionne sur la plupart des plates-formes informatiques, des smartphones aux ordinateurs centraux7, de Windows à Unix avec notamment GNU/Linux en passant par macOS, ou encore Android, iOS, et peut aussi être traduit en Java ou .NET. Il est conçu pour optimiser la productivité des programmeurs en offrant des outils de haut niveau et une syntaxe simple à utiliser.\""
   ]
  },
  {
   "cell_type": "code",
   "execution_count": 53,
   "metadata": {},
   "outputs": [],
   "source": [
    "phraseSantize = re.sub(r\"[^\\w\\se]\", \"\", phrase, flags=re.IGNORECASE)"
   ]
  },
  {
   "cell_type": "code",
   "execution_count": 86,
   "metadata": {},
   "outputs": [
    {
     "data": {
      "text/plain": [
       "4.99"
      ]
     },
     "execution_count": 86,
     "metadata": {},
     "output_type": "execute_result"
    }
   ],
   "source": [
    "# Transforme en tuple une chaine de caractères à l'aide de l'opérateur * qui spread la chaine \n",
    "len ( ( *\"bonjour\", ) )\n",
    "phraseList = phraseSantize.split(' ')\n",
    "\n",
    "assert len( phraseList ) > 0\n",
    "\n",
    "round( sum( map(lambda w : len( (*w, ) ),phraseList ) ) / len(phraseList), 2 )"
   ]
  },
  {
   "cell_type": "code",
   "execution_count": 90,
   "metadata": {},
   "outputs": [
    {
     "name": "stdout",
     "output_type": "stream",
     "text": [
      "2\n",
      "7\n",
      "6\n",
      "3\n",
      "5\n",
      "4\n",
      "3\n",
      "7\n",
      "5\n",
      "6\n",
      "2\n",
      "2\n",
      "7\n",
      "4\n",
      "2\n",
      "10\n",
      "3\n",
      "2\n",
      "7\n",
      "3\n",
      "12\n",
      "13\n",
      "3\n",
      "11\n",
      "3\n",
      "11\n",
      "9\n",
      "2\n",
      "7\n",
      "1\n",
      "4\n",
      "4\n",
      "9\n",
      "8\n",
      "2\n",
      "7\n",
      "3\n",
      "5\n",
      "2\n",
      "6\n",
      "7\n",
      "3\n",
      "2\n",
      "4\n",
      "5\n",
      "4\n",
      "7\n",
      "2\n",
      "4\n",
      "2\n",
      "3\n",
      "2\n",
      "3\n",
      "5\n",
      "4\n",
      "9\n",
      "2\n",
      "12\n",
      "3\n",
      "12\n",
      "2\n",
      "7\n",
      "3\n",
      "6\n",
      "2\n",
      "4\n",
      "6\n",
      "2\n",
      "3\n",
      "7\n",
      "6\n",
      "1\n",
      "8\n"
     ]
    }
   ],
   "source": [
    "# Attention en python on travaille avec des générateurs\n",
    "for e in map(lambda w : len( (*w, ) ),phraseList ):\n",
    "    print(e)"
   ]
  },
  {
   "cell_type": "code",
   "execution_count": 91,
   "metadata": {},
   "outputs": [
    {
     "data": {
      "text/plain": [
       "[0, 1, 2, 3, 4, 5, 6, 7, 8, 9]"
      ]
     },
     "execution_count": 91,
     "metadata": {},
     "output_type": "execute_result"
    }
   ],
   "source": [
    "list( range(10) )"
   ]
  },
  {
   "cell_type": "code",
   "execution_count": 117,
   "metadata": {},
   "outputs": [
    {
     "name": "stdout",
     "output_type": "stream",
     "text": [
      "s 4\n",
      "[True, True, False, False]\n"
     ]
    }
   ],
   "source": [
    "phrase = \"mississipi\" \n",
    "\n",
    "p = list( { c:  phrase.count(c) for c in set( \"mississipi\" )  }.items())\n",
    "\n",
    "p.sort(reverse=True, key = lambda t : t[1])\n",
    "\n",
    "ch, nb = p[0]\n",
    "\n",
    "print(ch, nb)\n",
    "\n",
    "# masque de recherche \n",
    "mask = list( map(lambda t : t[1] == nb, p) )\n",
    "\n",
    "print(mask)"
   ]
  },
  {
   "cell_type": "code",
   "execution_count": 124,
   "metadata": {},
   "outputs": [
    {
     "data": {
      "text/plain": [
       "array([['s', '4'],\n",
       "       ['i', '4']], dtype='<U21')"
      ]
     },
     "execution_count": 124,
     "metadata": {},
     "output_type": "execute_result"
    }
   ],
   "source": [
    "\"\"\"\n",
    "numpy est une brique de la Data analyse compilé en C mais on écrit en Python\n",
    "\n",
    "Numpy permet par exemple dans la recherche de données d'extraire des sous-ensembles à l'aide de l'application\n",
    "d'un mask, par \n",
    "\"\"\"\n",
    "\n",
    "np.array(p)[mask]"
   ]
  }
 ],
 "metadata": {
  "kernelspec": {
   "display_name": "Python 3",
   "language": "python",
   "name": "python3"
  },
  "language_info": {
   "codemirror_mode": {
    "name": "ipython",
    "version": 3
   },
   "file_extension": ".py",
   "mimetype": "text/x-python",
   "name": "python",
   "nbconvert_exporter": "python",
   "pygments_lexer": "ipython3",
   "version": "3.8.3"
  }
 },
 "nbformat": 4,
 "nbformat_minor": 4
}
