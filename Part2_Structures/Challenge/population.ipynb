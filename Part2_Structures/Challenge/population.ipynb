{
 "cells": [
  {
   "cell_type": "code",
   "execution_count": 1,
   "metadata": {},
   "outputs": [],
   "source": [
    "import numpy as np # numerical python module pour les traiter les données"
   ]
  },
  {
   "cell_type": "code",
   "execution_count": 52,
   "metadata": {},
   "outputs": [],
   "source": [
    "populations = [\n",
    "    { \"id\" : 0, \"name\" : \"Alan\" },\n",
    "    { \"id\" : 1, \"name\" : \"Albert\" },\n",
    "    { \"id\" : 2, \"name\" : \"Jhon\" },\n",
    "    { \"id\" : 3, \"name\" : \"Brice\" },\n",
    "    { \"id\" : 4, \"name\" : \"Alexendra\" },\n",
    "    { \"id\" : 5, \"name\" : \"Brad\" },\n",
    "    { \"id\" : 6, \"name\" : \"Carl\" },\n",
    "    { \"id\" : 7, \"name\" : \"Dallas\" },\n",
    "    { \"id\" : 8, \"name\" : \"Dennis\" },\n",
    "    { \"id\" : 9, \"name\" : \"Edgar\" },\n",
    "    { \"id\" : 10, \"name\" : \"Erika\" },\n",
    "    { \"id\" : 11, \"name\" : \"Isaac\" },\n",
    "    { \"id\" : 12, \"name\" : \"Ian\" }\n",
    "]\n",
    "\n",
    "# chaque tuple représente la relation réciproque des users 0 => 1 et 1 => 0\n",
    "relationships = [\n",
    "    (0,1), (0,2), (1,2), (1,4),(2,3), (2,5),\n",
    "    (3,4), (3,7), (4,5),(4,8), (4,9), (5,7),\n",
    "    (5,9), (6,7), (6,8), (7,1), (7,8), (8,9),\n",
    "    (10,1),(10,2),(10,3),(11,12),(11,2),(11,5)\n",
    "]\n",
    "\n",
    "TOTAL_POPULATION = len(populations)\n",
    "PRECISION = 2"
   ]
  },
  {
   "cell_type": "code",
   "execution_count": 53,
   "metadata": {},
   "outputs": [],
   "source": [
    "for pop in populations:\n",
    "    pop['relation'] = []\n",
    "    pop['avg'] = None\n"
   ]
  },
  {
   "cell_type": "code",
   "execution_count": 54,
   "metadata": {},
   "outputs": [
    {
     "name": "stdout",
     "output_type": "stream",
     "text": [
      "[{'id': 0, 'name': 'Alan', 'relation': [], 'avg': None}, {'id': 1, 'name': 'Albert', 'relation': [], 'avg': None}, {'id': 2, 'name': 'Jhon', 'relation': [], 'avg': None}, {'id': 3, 'name': 'Brice', 'relation': [], 'avg': None}, {'id': 4, 'name': 'Alexendra', 'relation': [], 'avg': None}, {'id': 5, 'name': 'Brad', 'relation': [], 'avg': None}, {'id': 6, 'name': 'Carl', 'relation': [], 'avg': None}, {'id': 7, 'name': 'Dallas', 'relation': [], 'avg': None}, {'id': 8, 'name': 'Dennis', 'relation': [], 'avg': None}, {'id': 9, 'name': 'Edgar', 'relation': [], 'avg': None}, {'id': 10, 'name': 'Erika', 'relation': [], 'avg': None}, {'id': 11, 'name': 'Isaac', 'relation': [], 'avg': None}, {'id': 12, 'name': 'Ian', 'relation': [], 'avg': None}]\n"
     ]
    }
   ],
   "source": [
    "print(populations)"
   ]
  },
  {
   "cell_type": "code",
   "execution_count": 72,
   "metadata": {},
   "outputs": [
    {
     "data": {
      "text/plain": [
       "array([{'id': 0, 'name': 'Alan', 'relation': [1, 2], 'avg': 0.15},\n",
       "       {'id': 1, 'name': 'Albert', 'relation': [0, 2, 4, 7, 10], 'avg': 0.38},\n",
       "       {'id': 2, 'name': 'Jhon', 'relation': [0, 1, 3, 5, 10, 11], 'avg': 0.46},\n",
       "       {'id': 3, 'name': 'Brice', 'relation': [2, 4, 7, 10], 'avg': 0.31},\n",
       "       {'id': 4, 'name': 'Alexendra', 'relation': [1, 3, 5, 8, 9], 'avg': 0.38},\n",
       "       {'id': 5, 'name': 'Brad', 'relation': [2, 4, 7, 9, 11], 'avg': 0.38},\n",
       "       {'id': 6, 'name': 'Carl', 'relation': [7, 8], 'avg': 0.15},\n",
       "       {'id': 7, 'name': 'Dallas', 'relation': [3, 5, 6, 1, 8], 'avg': 0.38},\n",
       "       {'id': 8, 'name': 'Dennis', 'relation': [4, 6, 7, 9], 'avg': 0.31},\n",
       "       {'id': 9, 'name': 'Edgar', 'relation': [4, 5, 8], 'avg': 0.23},\n",
       "       {'id': 10, 'name': 'Erika', 'relation': [1, 2, 3], 'avg': 0.23},\n",
       "       {'id': 11, 'name': 'Isaac', 'relation': [12, 2, 5], 'avg': 0.23},\n",
       "       {'id': 12, 'name': 'Ian', 'relation': [11], 'avg': 0.08}],\n",
       "      dtype=object)"
      ]
     },
     "execution_count": 72,
     "metadata": {},
     "output_type": "execute_result"
    }
   ],
   "source": [
    "# avoir un tableau dans Numpy == nouvelles structures de données on peut plus rien ajouter dans cette structure \n",
    "# car on a alloué la mémoire à cette objet pour qu'il contienne exactement ce qu'on lui a mis\n",
    "# Il est accessible en lecture et en écriture, mais rappelez vous rien ajouter ... \n",
    "popArray = np.array(populations)\n",
    "\n",
    "popArray"
   ]
  },
  {
   "cell_type": "code",
   "execution_count": 56,
   "metadata": {},
   "outputs": [],
   "source": [
    "for (i, j) in relationships:\n",
    "    popArray[i]['relation'].append(j) # on aurait pu mettre entièrement les informations du user au lieu de son id\n",
    "    popArray[j]['relation'].append(i)    "
   ]
  },
  {
   "cell_type": "code",
   "execution_count": 126,
   "metadata": {},
   "outputs": [
    {
     "name": "stdout",
     "output_type": "stream",
     "text": [
      "object\n"
     ]
    }
   ],
   "source": [
    "print(popArray.dtype)"
   ]
  },
  {
   "cell_type": "code",
   "execution_count": 62,
   "metadata": {},
   "outputs": [],
   "source": [
    "# création de petite fonction permettant de définir des calculs intermédiaires spécifiques \n",
    "def number_relation_user(user):\n",
    "    return len(user['relation'])\n",
    "\n",
    "def avg(user):\n",
    "    return np.round( number_relation_user(user) / TOTAL_POPULATION, PRECISION )"
   ]
  },
  {
   "cell_type": "code",
   "execution_count": 63,
   "metadata": {},
   "outputs": [
    {
     "name": "stdout",
     "output_type": "stream",
     "text": [
      "48\n"
     ]
    }
   ],
   "source": [
    "total_relation = sum(number_relation_user(user) for user in popArray)\n",
    "\n",
    "print(total_relation)"
   ]
  },
  {
   "cell_type": "code",
   "execution_count": 64,
   "metadata": {},
   "outputs": [
    {
     "name": "stdout",
     "output_type": "stream",
     "text": [
      "3.69\n",
      "13\n"
     ]
    }
   ],
   "source": [
    "avg_relation = np.round( np.mean( total_relation/TOTAL_POPULATION ) , PRECISION )\n",
    "\n",
    "print(avg_relation)\n",
    "print(len(popArray))"
   ]
  },
  {
   "cell_type": "code",
   "execution_count": 65,
   "metadata": {},
   "outputs": [],
   "source": [
    "# Moyenne pour chaque individu \n",
    "\n",
    "for user in popArray:\n",
    "    user['avg'] = avg(user)\n"
   ]
  },
  {
   "cell_type": "code",
   "execution_count": 68,
   "metadata": {},
   "outputs": [
    {
     "name": "stdout",
     "output_type": "stream",
     "text": [
      "[{'id': 0, 'name': 'Alan', 'relation': [1, 2], 'avg': 0.15}\n",
      " {'id': 1, 'name': 'Albert', 'relation': [0, 2, 4, 7, 10], 'avg': 0.38}\n",
      " {'id': 2, 'name': 'Jhon', 'relation': [0, 1, 3, 5, 10, 11], 'avg': 0.46}\n",
      " {'id': 3, 'name': 'Brice', 'relation': [2, 4, 7, 10], 'avg': 0.31}\n",
      " {'id': 4, 'name': 'Alexendra', 'relation': [1, 3, 5, 8, 9], 'avg': 0.38}\n",
      " {'id': 5, 'name': 'Brad', 'relation': [2, 4, 7, 9, 11], 'avg': 0.38}\n",
      " {'id': 6, 'name': 'Carl', 'relation': [7, 8], 'avg': 0.15}\n",
      " {'id': 7, 'name': 'Dallas', 'relation': [3, 5, 6, 1, 8], 'avg': 0.38}\n",
      " {'id': 8, 'name': 'Dennis', 'relation': [4, 6, 7, 9], 'avg': 0.31}\n",
      " {'id': 9, 'name': 'Edgar', 'relation': [4, 5, 8], 'avg': 0.23}\n",
      " {'id': 10, 'name': 'Erika', 'relation': [1, 2, 3], 'avg': 0.23}\n",
      " {'id': 11, 'name': 'Isaac', 'relation': [12, 2, 5], 'avg': 0.23}\n",
      " {'id': 12, 'name': 'Ian', 'relation': [11], 'avg': 0.08}]\n"
     ]
    }
   ],
   "source": [
    "print(popArray)"
   ]
  },
  {
   "cell_type": "code",
   "execution_count": 88,
   "metadata": {},
   "outputs": [
    {
     "name": "stdout",
     "output_type": "stream",
     "text": [
      "0.46\n"
     ]
    },
    {
     "data": {
      "text/plain": [
       "array([{'id': 2, 'name': 'Jhon', 'relation': [0, 1, 3, 5, 10, 11], 'avg': 0.46}],\n",
       "      dtype=object)"
      ]
     },
     "execution_count": 88,
     "metadata": {},
     "output_type": "execute_result"
    }
   ],
   "source": [
    "# méthode du plus grand élément\n",
    "maxAvg = 0\n",
    "\n",
    "# on extrtait l'élément le plus grand\n",
    "for user in popArray:\n",
    "    maxAvg = ( user['avg'] if user['avg'] > maxAvg else maxAvg)        \n",
    "    \n",
    "print(maxAvg)\n",
    "\n",
    "# crée un mask artificiellement avec une boucle\n",
    "mask = []\n",
    "for i in range(TOTAL_POPULATION):\n",
    "    mask.append(popArray[i]['avg'] >= maxAvg)\n",
    "    \n",
    "# On applique le mask pour extraire la donnée recherché c-a-d la personne ayant la meilleur moyenne\n",
    "popArray[mask]"
   ]
  },
  {
   "cell_type": "code",
   "execution_count": 90,
   "metadata": {},
   "outputs": [],
   "source": [
    "# Liste des users avec leurs nombre de relation, le tableau Numpy doit etre de la taille des données à ranger dedans\n",
    "# de plus on peut préciser le type pour Numpy optimise la place mémoire pour ranger les données\n",
    "userRelation = np.zeros(TOTAL_POPULATION, dtype=([('user', np.int16), ('relation', np.int16)]))"
   ]
  },
  {
   "cell_type": "code",
   "execution_count": 99,
   "metadata": {},
   "outputs": [
    {
     "name": "stdout",
     "output_type": "stream",
     "text": [
      "[('user', '<i2'), ('relation', '<i2')]\n"
     ]
    }
   ],
   "source": [
    "# On stocke de manière optimale les données dans les structures Numpy\n",
    "j = 0\n",
    "for user in popArray:\n",
    "    \n",
    "    userRelation[j]['relation']= number_relation_user(user)\n",
    "    userRelation[j]['user']= user['id']\n",
    "    \n",
    "    j += 1\n",
    "    \n",
    "print(userRelation.dtype)"
   ]
  },
  {
   "cell_type": "code",
   "execution_count": 127,
   "metadata": {},
   "outputs": [
    {
     "data": {
      "text/plain": [
       "[(1, 0),\n",
       " (1, 2),\n",
       " (1, 4),\n",
       " (1, 7),\n",
       " (1, 10),\n",
       " (2, 0),\n",
       " (2, 1),\n",
       " (2, 3),\n",
       " (2, 5),\n",
       " (2, 10),\n",
       " (2, 11)]"
      ]
     },
     "execution_count": 127,
     "metadata": {},
     "output_type": "execute_result"
    }
   ],
   "source": [
    "# les amis des amis \n",
    "\n",
    "def relation_of_relation(user):\n",
    "    return [( r, fof ) for r in user['relation'] for fof in popArray[r]['relation'] ]\n",
    "\n",
    "# Fonction qui permet de chercher les amis des amis de l'utilisateur id = 0\n",
    "relation_of_relation(popArray[0])"
   ]
  },
  {
   "cell_type": "code",
   "execution_count": null,
   "metadata": {},
   "outputs": [],
   "source": [
    "# Partie 2"
   ]
  },
  {
   "cell_type": "code",
   "execution_count": 143,
   "metadata": {},
   "outputs": [
    {
     "name": "stdout",
     "output_type": "stream",
     "text": [
      "['Alan' 'Albert' 'Jhon' 'Brice' 'Alexendra' 'Brad' 'Carl' 'Dallas'\n",
      " 'Dennis' 'Edgar' 'Erika' 'Isaac' 'Ian']\n",
      "<U16\n",
      "[4 2 3 5 7 8 2 6 4 3 5 7 5]\n",
      "int64\n"
     ]
    }
   ],
   "source": [
    "students = [\n",
    "    \"Alan\",\n",
    "    \"Albert\",\n",
    "    \"Jhon\",\n",
    "    \"Brice\",\n",
    "    \"Alexendra\",\n",
    "    \"Brad\",\n",
    "    \"Carl\",\n",
    "    \"Dallas\",\n",
    "    \"Dennis\",\n",
    "    \"Edgar\",\n",
    "     \"Erika\",\n",
    "     \"Isaac\",\n",
    "    \"Ian\" \n",
    "]\n",
    "\n",
    "levels = [4,2,3,5,7,8,2,6,4,3,5, 7, 5]\n",
    "\n",
    "students = np.array(students, dtype='<U16')\n",
    "levels = np.array(levels, dtype='<i8')\n",
    "print(students)\n",
    "\n",
    "print(students.dtype)\n",
    "\n",
    "print(levels)\n",
    "print(levels.dtype)"
   ]
  },
  {
   "cell_type": "code",
   "execution_count": 167,
   "metadata": {},
   "outputs": [],
   "source": [
    "relationLevels = np.array( list( zip(students, levels) ) )"
   ]
  },
  {
   "cell_type": "code",
   "execution_count": 178,
   "metadata": {},
   "outputs": [
    {
     "data": {
      "text/plain": [
       "array([['Alan', '4'],\n",
       "       ['Jhon', '3'],\n",
       "       ['Alexendra', '7'],\n",
       "       ['Carl', '2'],\n",
       "       ['Dennis', '4'],\n",
       "       ['Erika', '5'],\n",
       "       ['Ian', '5']], dtype='<U21')"
      ]
     },
     "execution_count": 178,
     "metadata": {},
     "output_type": "execute_result"
    }
   ],
   "source": [
    "relationLevels[:][::2]"
   ]
  },
  {
   "cell_type": "code",
   "execution_count": 181,
   "metadata": {},
   "outputs": [
    {
     "data": {
      "text/plain": [
       "array([['Alexendra', '7'],\n",
       "       ['Brad', '8'],\n",
       "       ['Isaac', '7']], dtype='<U21')"
      ]
     },
     "execution_count": 181,
     "metadata": {},
     "output_type": "execute_result"
    }
   ],
   "source": [
    "# Affichez tous les levels supérieur à 6\n",
    "\n",
    "mask = levels > 6\n",
    "\n",
    "relationLevels[mask]"
   ]
  },
  {
   "cell_type": "code",
   "execution_count": 182,
   "metadata": {},
   "outputs": [],
   "source": [
    "# Faire la somme des levels supérieur à 3\n",
    "# Puis faire la somme des levels compris entre 3 et 6"
   ]
  },
  {
   "cell_type": "code",
   "execution_count": 194,
   "metadata": {},
   "outputs": [
    {
     "name": "stdout",
     "output_type": "stream",
     "text": [
      "51\n"
     ]
    }
   ],
   "source": [
    "mask = levels > 3\n",
    "\n",
    "s = 0\n",
    "for r in relationLevels[mask]:\n",
    "    s += int( r[1] )\n",
    "print(s)"
   ]
  },
  {
   "cell_type": "code",
   "execution_count": 198,
   "metadata": {},
   "outputs": [
    {
     "name": "stdout",
     "output_type": "stream",
     "text": [
      "[ True False False  True False False False False  True False  True False\n",
      "  True]\n",
      "23\n"
     ]
    }
   ],
   "source": [
    "# on utilise l'opérateur & car la compairson est faite sur des valeurs binaires optimisation de Numpy\n",
    "# Faire attention aux parenthèses pour les propriétés & étant prioritaire par rapport à la comparaison\n",
    "mask = ( levels > 3 ) & (levels < 6 )\n",
    "# print(mask)\n",
    "\n",
    "s = 0\n",
    "for r in relationLevels[mask]:\n",
    "    s += int( r[1] )\n",
    "print(s)"
   ]
  }
 ],
 "metadata": {
  "kernelspec": {
   "display_name": "Python 3",
   "language": "python",
   "name": "python3"
  },
  "language_info": {
   "codemirror_mode": {
    "name": "ipython",
    "version": 3
   },
   "file_extension": ".py",
   "mimetype": "text/x-python",
   "name": "python",
   "nbconvert_exporter": "python",
   "pygments_lexer": "ipython3",
   "version": "3.8.3"
  }
 },
 "nbformat": 4,
 "nbformat_minor": 4
}
